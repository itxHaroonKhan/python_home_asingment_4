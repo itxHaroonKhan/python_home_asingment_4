{
  "nbformat": 4,
  "nbformat_minor": 0,
  "metadata": {
    "colab": {
      "provenance": [],
      "authorship_tag": "ABX9TyNNj8og0l6Tv0XDkJAcujHE",
      "include_colab_link": true
    },
    "kernelspec": {
      "name": "python3",
      "display_name": "Python 3"
    },
    "language_info": {
      "name": "python"
    }
  },
  "cells": [
    {
      "cell_type": "markdown",
      "metadata": {
        "id": "view-in-github",
        "colab_type": "text"
      },
      "source": [
        "<a href=\"https://colab.research.google.com/github/itxHaroonKhan/02_intermediate/blob/main/01_basics.ipynb\" target=\"_parent\"><img src=\"https://colab.research.google.com/assets/colab-badge.svg\" alt=\"Open In Colab\"/></a>"
      ]
    },
    {
      "cell_type": "markdown",
      "source": [
        "# **00_joke_bot.md**"
      ],
      "metadata": {
        "id": "EfZDQLdOSNPL"
      }
    },
    {
      "cell_type": "code",
      "execution_count": null,
      "metadata": {
        "colab": {
          "base_uri": "https://localhost:8080/"
        },
        "id": "d-Q6NNKOR-wb",
        "outputId": "0d010bd9-aceb-4418-c9ce-4d74441efa6c"
      },
      "outputs": [
        {
          "output_type": "stream",
          "name": "stdout",
          "text": [
            "What do you want ?joke\n",
            "Doctor: You need peace, go to a nice place, listen to the birds, breathe fresh air.\n",
            "Patient: But doctor, I work at a zoo! 😆\n"
          ]
        }
      ],
      "source": [
        "Prompt = \"What do you want ?\"\n",
        "Joke = \"Doctor: You need peace, go to a nice place, listen to the birds, breathe fresh air.\\nPatient: But doctor, I work at a zoo! 😆\"\n",
        "sorry = \"Sorry, I only tell jokes.\"\n",
        "\n",
        "def main():\n",
        "    user_input = input(Prompt).strip().lower()\n",
        "    if user_input == \"joke\":\n",
        "        print(Joke)\n",
        "    else:\n",
        "        print(sorry)\n",
        "\n",
        "if __name__ == \"__main__\":\n",
        "    main()\n"
      ]
    },
    {
      "cell_type": "markdown",
      "source": [
        "# **01_double**"
      ],
      "metadata": {
        "id": "U7qtUCqFXrXf"
      }
    },
    {
      "cell_type": "code",
      "source": [
        "def main():\n",
        "  user_val = int(input(\"Please enter a number: \"))\n",
        "\n",
        "  while user_val < 100:\n",
        "    user_val *= 2\n",
        "    print(user_val)\n",
        "\n",
        "if __name__ == \"__main__\":\n",
        "  main()"
      ],
      "metadata": {
        "colab": {
          "base_uri": "https://localhost:8080/"
        },
        "id": "MqYqagSaX9uT",
        "outputId": "addc6411-e616-4130-dd47-447128a2f205"
      },
      "execution_count": null,
      "outputs": [
        {
          "output_type": "stream",
          "name": "stdout",
          "text": [
            "Please enter a number: 4\n",
            "8\n",
            "16\n",
            "32\n",
            "64\n",
            "128\n"
          ]
        }
      ]
    },
    {
      "cell_type": "markdown",
      "source": [
        "# **02_liftoff.**"
      ],
      "metadata": {
        "id": "GHij7g6QYMoB"
      }
    },
    {
      "cell_type": "code",
      "source": [
        "\n",
        "def main():\n",
        "    for i in range(10, 0, -1):\n",
        "        print(i , end=\" \")\n",
        "    print(\"Liftoff!\")\n",
        "\n",
        "if __name__ == \"__main__\":\n",
        "    main()\n"
      ],
      "metadata": {
        "colab": {
          "base_uri": "https://localhost:8080/"
        },
        "id": "M6HmWlQIXxKz",
        "outputId": "7e4e89ef-b6a3-4072-81d5-1a69a3e69a52"
      },
      "execution_count": null,
      "outputs": [
        {
          "output_type": "stream",
          "name": "stdout",
          "text": [
            "10 9 8 7 6 5 4 3 2 1 Liftoff!\n"
          ]
        }
      ]
    },
    {
      "cell_type": "markdown",
      "source": [
        "# **03_guess_my_number**"
      ],
      "metadata": {
        "id": "OqEwpkk2Yhmv"
      }
    },
    {
      "cell_type": "code",
      "source": [
        "import random\n",
        "\n",
        "def main():\n",
        "    secret_num = random.randint(0, 99)\n",
        "    print(\"I am thinking of a number between 0 and 99...\")\n",
        "    guess = int(input(\"Enter a guess: \"))\n",
        "\n",
        "    while guess != secret_num:\n",
        "        if guess < secret_num:\n",
        "            print(\"Your guess is too low.\")\n",
        "        else:\n",
        "            print(\"Your guess is too high.\")\n",
        "        guess = int(input(\"Enter a new number: \"))\n",
        "\n",
        "    print(f\"🎉 Congrats! The number was: {secret_num}\")\n",
        "\n",
        "if __name__ == \"__main__\":\n",
        "    main()\n"
      ],
      "metadata": {
        "id": "lVLwr0zKYY5g"
      },
      "execution_count": null,
      "outputs": []
    },
    {
      "cell_type": "markdown",
      "source": [
        "# **04_random_numbers**"
      ],
      "metadata": {
        "id": "zIe8OmqCZwCN"
      }
    },
    {
      "cell_type": "code",
      "source": [
        "import random\n",
        "\n",
        "def main():\n",
        "    for _ in range(10):\n",
        "        random_num = random.randint(0, 100)\n",
        "        print(random_num, end=\" \")\n",
        "\n",
        "if __name__ == \"__main__\":\n",
        "    main()"
      ],
      "metadata": {
        "colab": {
          "base_uri": "https://localhost:8080/"
        },
        "id": "VQ1D3dcdaP4a",
        "outputId": "09376254-a57a-4518-e0f4-0e6d1ff9144f"
      },
      "execution_count": null,
      "outputs": [
        {
          "output_type": "stream",
          "name": "stdout",
          "text": [
            "28 6 15 41 76 55 88 41 33 74 "
          ]
        }
      ]
    }
  ]
}