{
  "nbformat": 4,
  "nbformat_minor": 0,
  "metadata": {
    "colab": {
      "provenance": [],
      "authorship_tag": "ABX9TyMWpebHxtyb63cr29Nayqwg",
      "include_colab_link": true
    },
    "kernelspec": {
      "name": "python3",
      "display_name": "Python 3"
    },
    "language_info": {
      "name": "python"
    }
  },
  "cells": [
    {
      "cell_type": "markdown",
      "metadata": {
        "id": "view-in-github",
        "colab_type": "text"
      },
      "source": [
        "<a href=\"https://colab.research.google.com/github/itxHaroonKhan/02_intermediate/blob/main/Control_Flow_for_Console.ipynb\" target=\"_parent\"><img src=\"https://colab.research.google.com/assets/colab-badge.svg\" alt=\"Open In Colab\"/></a>"
      ]
    },
    {
      "cell_type": "markdown",
      "source": [
        "# **High Low**"
      ],
      "metadata": {
        "id": "9jsMBgIci94q"
      }
    },
    {
      "cell_type": "code",
      "execution_count": null,
      "metadata": {
        "colab": {
          "base_uri": "https://localhost:8080/"
        },
        "id": "WNvyKapdiD_W",
        "outputId": "33bb7f95-bf68-4e1d-c7dd-d9eec0dcad76"
      },
      "outputs": [
        {
          "output_type": "stream",
          "name": "stdout",
          "text": [
            "Welcome to the High-Low Game!\n",
            "----------------------------\n",
            "Round 1\n",
            "Your number is 57\n",
            "Do you think your number is higher or lower than the computer's number? (higher/lower): 57\n",
            "Invalid input! Please enter 'higher' or 'lower'.\n",
            "Do you think your number is higher or lower than the computer's number? (higher/lower): lower\n",
            "You were right! The computer's number was 71.\n",
            "Your score is now 1\n",
            "\n",
            "Round 2\n",
            "Your number is 22\n",
            "Do you think your number is higher or lower than the computer's number? (higher/lower): higher\n",
            "You were right! The computer's number was 2.\n",
            "Your score is now 2\n",
            "\n",
            "Round 3\n",
            "Your number is 17\n",
            "Do you think your number is higher or lower than the computer's number? (higher/lower): higher\n",
            "You were right! The computer's number was 3.\n",
            "Your score is now 3\n",
            "\n",
            "Round 4\n",
            "Your number is 23\n",
            "Do you think your number is higher or lower than the computer's number? (higher/lower): lower\n",
            "You were right! The computer's number was 33.\n",
            "Your score is now 4\n",
            "\n",
            "Round 5\n",
            "Your number is 40\n",
            "Do you think your number is higher or lower than the computer's number? (higher/lower): higher\n",
            "Aww, that's incorrect. The computer's number was 96.\n",
            "Your score is now 4\n",
            "\n",
            "Thanks for playing!\n",
            "Good job, you played really well!\n"
          ]
        },
        {
          "output_type": "execute_result",
          "data": {
            "text/plain": [
              "43"
            ]
          },
          "metadata": {},
          "execution_count": 2
        }
      ],
      "source": [
        "import random\n",
        "\n",
        "def main():\n",
        "    print(\"Welcome to the High-Low Game!\")\n",
        "    print(\"----------------------------\")\n",
        "\n",
        "    NUM_ROUNDS = 5\n",
        "    your_score = 0\n",
        "\n",
        "    for i in range(NUM_ROUNDS):\n",
        "        print(f\"Round {i+1}\")\n",
        "\n",
        "        computer_number = random.randint(1, 100)\n",
        "        your_number = random.randint(1, 100)\n",
        "\n",
        "        print(f\"Your number is {your_number}\")\n",
        "\n",
        "        while True:\n",
        "            choice = input(\"Do you think your number is higher or lower than the computer's number? (higher/lower): \").strip().lower()\n",
        "            if choice in [\"higher\", \"lower\"]:\n",
        "                break\n",
        "            print(\"Invalid input! Please enter 'higher' or 'lower'.\")\n",
        "\n",
        "        if (choice == \"higher\" and your_number > computer_number) or (choice == \"lower\" and your_number < computer_number):\n",
        "            print(f\"You were right! The computer's number was {computer_number}.\")\n",
        "            your_score += 1\n",
        "        else:\n",
        "            print(f\"Aww, that's incorrect. The computer's number was {computer_number}.\")\n",
        "\n",
        "        print(f\"Your score is now {your_score}\\n\")\n",
        "\n",
        "    print(\"Thanks for playing!\")\n",
        "    if your_score == NUM_ROUNDS:\n",
        "        print(\"Wow! You played perfectly!\")\n",
        "    elif your_score >= NUM_ROUNDS // 2:\n",
        "        print(\"Good job, you played really well!\")\n",
        "    else:\n",
        "        print(\"Better luck next time!\")\n",
        "\n",
        "if __name__ == \"__main__\":\n",
        "    main()\n",
        "43"
      ]
    },
    {
      "cell_type": "markdown",
      "source": [
        "# **Planetary Weight Calculator**"
      ],
      "metadata": {
        "id": "a9PaweRasFej"
      }
    },
    {
      "cell_type": "code",
      "source": [
        "def main():\n",
        "    print(\"Welcome to the Planetary Weight Calculator!\")\n",
        "    print(\"--------------------------------------------\")\n",
        "\n",
        "    user_weight = float(input(\"Enter your weight on Earth: \"))\n",
        "\n",
        "    planet_weight = {\n",
        "        \"Mercury\": 0.376,\n",
        "        \"Venus\": 0.889,\n",
        "        \"Earth\": 1.00,\n",
        "        \"Mars\": 0.378,\n",
        "        \"Jupiter\": 2.36,\n",
        "        \"Saturn\": 1.081,\n",
        "        \"Uranus\": 0.815,\n",
        "        \"Neptune\": 1.14\n",
        "    }\n",
        "\n",
        "    print(\"\\nSelect a planet to calculate your weight on:\")\n",
        "    for planet in planet_weight:\n",
        "        print(planet)\n",
        "\n",
        "    planet_choice = input(\"Enter the name of the planet: \").title()\n",
        "\n",
        "    if planet_choice in planet_weight:\n",
        "        equivalent_weight = round(user_weight * planet_weight[planet_choice], 2)\n",
        "        print(f\"\\nThe equivalent weight on {planet_choice}: {equivalent_weight}kg\")\n",
        "    else:\n",
        "        print(\"\\nInvalid planet name. Please enter a valid planet name.\")\n",
        "\n",
        "if __name__ == \"__main__\":\n",
        "    main()\n"
      ],
      "metadata": {
        "colab": {
          "base_uri": "https://localhost:8080/"
        },
        "id": "PJPNgPUfsIp2",
        "outputId": "6a6bbb3c-b45b-4ea8-8309-faf51c2ea782"
      },
      "execution_count": null,
      "outputs": [
        {
          "output_type": "stream",
          "name": "stdout",
          "text": [
            "Welcome to the Planetary Weight Calculator!\n",
            "--------------------------------------------\n",
            "Enter your weight on Earth: 6\n",
            "\n",
            "Select a planet to calculate your weight on:\n",
            "Mercury\n",
            "Venus\n",
            "Earth\n",
            "Mars\n",
            "Jupiter\n",
            "Saturn\n",
            "Uranus\n",
            "Neptune\n",
            "Enter the name of the planet: Earth\n",
            "\n",
            "The equivalent weight on Earth: 6.0kg\n"
          ]
        }
      ]
    },
    {
      "cell_type": "markdown",
      "source": [
        "# **List Practice**"
      ],
      "metadata": {
        "id": "ceWgwaotbPjH"
      }
    },
    {
      "cell_type": "code",
      "source": [
        "# ---------------------------\n",
        "# Part 1: List Practice\n",
        "# ---------------------------\n",
        "\n",
        "def main():\n",
        "\n",
        "    fruit_list = ['apple', 'banana', 'orange', 'grape', 'pineapple']\n",
        "\n",
        "\n",
        "    print(\"Length of fruit list:\", len(fruit_list))\n",
        "\n",
        "\n",
        "    fruit_list.append('mango')\n",
        "\n",
        "\n",
        "    print(\"Updated fruit list:\")\n",
        "    for fruit in fruit_list:\n",
        "        print(\"-\", fruit)\n",
        "\n",
        "\n",
        "def access_element(lst, index):\n",
        "    try:\n",
        "        return lst[index]\n",
        "    except IndexError:\n",
        "        return \"❌ Index out of range.\"\n",
        "\n",
        "\n",
        "def modify_element(lst, index, new_value):\n",
        "    try:\n",
        "        lst[index] = new_value\n",
        "        return lst\n",
        "    except IndexError:\n",
        "        return \"❌ Index out of range.\"\n",
        "\n",
        "def slice_list(lst, start, end):\n",
        "    if start < 0 or end > len(lst):\n",
        "        return \"❌ Invalid slice indices.\"\n",
        "    return lst[start:end]\n",
        "\n",
        "\n",
        "def index_game():\n",
        "    my_list = [\"Apple\", \"Mango\", \"Orange\", \"Pear\", \"Banana\"]\n",
        "\n",
        "    print(\"\\n--- Welcome to Index Game ---\")\n",
        "    print(\"Your List:\", my_list)\n",
        "    print(\"Choose an operation: access / modify / slice\")\n",
        "\n",
        "    operation = input(\"Enter operation: \").lower()\n",
        "\n",
        "    if operation == \"access\":\n",
        "        index = int(input(\"Enter index to access: \"))\n",
        "        result = access_element(my_list, index)\n",
        "        print(\"Result:\", result)\n",
        "\n",
        "    elif operation == \"modify\":\n",
        "        index = int(input(\"Enter index to modify: \"))\n",
        "        new_value = input(\"Enter new value: \")\n",
        "        result = modify_element(my_list, index, new_value)\n",
        "        print(\"Updated List:\", result)\n",
        "\n",
        "    elif operation == \"slice\":\n",
        "        start = int(input(\"Enter start index: \"))\n",
        "        end = int(input(\"Enter end index: \"))\n",
        "        result = slice_list(my_list, start, end)\n",
        "        print(\"Sliced List:\", result)\n",
        "\n",
        "    else:\n",
        "        print(\"❌ Invalid operation.\")\n",
        "\n",
        "\n",
        "if __name__ == '__main__':\n",
        "    main()\n",
        "    index_game()\n"
      ],
      "metadata": {
        "colab": {
          "base_uri": "https://localhost:8080/"
        },
        "id": "dECATvmRbWP8",
        "outputId": "fdbae5a2-aec3-4a4c-e8c7-e86b1df2dd5d"
      },
      "execution_count": 10,
      "outputs": [
        {
          "output_type": "stream",
          "name": "stdout",
          "text": [
            "Length of fruit list: 5\n",
            "Updated fruit list:\n",
            "- apple\n",
            "- banana\n",
            "- orange\n",
            "- grape\n",
            "- pineapple\n",
            "- mango\n",
            "\n",
            "--- Welcome to Index Game ---\n",
            "Your List: ['Apple', 'Mango', 'Orange', 'Pear', 'Banana']\n",
            "Choose an operation: access / modify / slice\n",
            "Enter operation: access\n",
            "Enter index to access: 1\n",
            "Result: Mango\n"
          ]
        }
      ]
    }
  ]
}