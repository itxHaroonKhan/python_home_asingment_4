{
  "nbformat": 4,
  "nbformat_minor": 0,
  "metadata": {
    "colab": {
      "provenance": [],
      "authorship_tag": "ABX9TyNit9yTvcc0Ma+CHBfrUHC/",
      "include_colab_link": true
    },
    "kernelspec": {
      "name": "python3",
      "display_name": "Python 3"
    },
    "language_info": {
      "name": "python"
    }
  },
  "cells": [
    {
      "cell_type": "markdown",
      "metadata": {
        "id": "view-in-github",
        "colab_type": "text"
      },
      "source": [
        "<a href=\"https://colab.research.google.com/github/itxHaroonKhan/python_home_asingment_4/blob/main/05_loops_control_flow.ipynb\" target=\"_parent\"><img src=\"https://colab.research.google.com/assets/colab-badge.svg\" alt=\"Open In Colab\"/></a>"
      ]
    },
    {
      "cell_type": "markdown",
      "source": [
        "**# 00_guess_my_number**\n",
        "\n"
      ],
      "metadata": {
        "id": "1R39igTpaRtH"
      }
    },
    {
      "cell_type": "code",
      "execution_count": null,
      "metadata": {
        "colab": {
          "base_uri": "https://localhost:8080/"
        },
        "id": "qb0Y8G8LaIO2",
        "outputId": "835ab524-57f9-4d3f-c629-109e9d92ae2c"
      },
      "outputs": [
        {
          "output_type": "stream",
          "name": "stdout",
          "text": [
            "I am thinking of a number between 0 and 99...\n",
            "Enter a guess: 56\n",
            "Your guess is too low.\n",
            "Enter a new number: 79\n",
            "Your guess is too low.\n",
            "Enter a new number: 88\n",
            "Your guess is too high.\n",
            "Enter a new number: 87\n",
            "🎉 Congrats! The number was: 87\n"
          ]
        }
      ],
      "source": [
        "import random\n",
        "\n",
        "def main():\n",
        "    secret_num = random.randint(0, 99)\n",
        "    print(\"I am thinking of a number between 0 and 99...\")\n",
        "    guess = int(input(\"Enter a guess: \"))\n",
        "\n",
        "    while guess != secret_num:\n",
        "        if guess < secret_num:\n",
        "            print(\"Your guess is too low.\")\n",
        "        else:\n",
        "            print(\"Your guess is too high.\")\n",
        "        guess = int(input(\"Enter a new number: \"))\n",
        "\n",
        "    print(f\"🎉 Congrats! The number was: {secret_num}\")\n",
        "\n",
        "if __name__ == \"__main__\":\n",
        "    main()\n",
        "\n"
      ]
    },
    {
      "cell_type": "markdown",
      "source": [
        "# **01_fibonacci**"
      ],
      "metadata": {
        "id": "9bWVdaXIhWNh"
      }
    },
    {
      "cell_type": "code",
      "source": [
        "max_val = 10000\n",
        "\n",
        "def main():\n",
        "    a, b = 0, 1\n",
        "    print(a, b, end=\" \")\n",
        "\n",
        "    while True:\n",
        "        c = a + b\n",
        "        if c >= max_val:\n",
        "            break\n",
        "        print(c, end=\" \")\n",
        "        a, b = b, c\n",
        "\n",
        "if __name__ == \"__main__\":\n",
        "    main()\n"
      ],
      "metadata": {
        "colab": {
          "base_uri": "https://localhost:8080/"
        },
        "id": "5mdCLOeYhaAe",
        "outputId": "e60cc839-e58e-421a-821f-e0299c092d5d"
      },
      "execution_count": null,
      "outputs": [
        {
          "output_type": "stream",
          "name": "stdout",
          "text": [
            "0 1 1 2 3 5 8 13 21 34 55 89 144 233 377 610 987 1597 2584 4181 6765 "
          ]
        }
      ]
    },
    {
      "cell_type": "markdown",
      "source": [
        "# **02_print_events**"
      ],
      "metadata": {
        "id": "IH9Wa6UakHLO"
      }
    },
    {
      "cell_type": "code",
      "source": [
        "def main():\n",
        "\n",
        "  for i in range(20):\n",
        "    print(i * 2)\n",
        "\n",
        "if __name__ == \"__main__\":\n",
        "  main()"
      ],
      "metadata": {
        "colab": {
          "base_uri": "https://localhost:8080/"
        },
        "id": "n6kCd4m-kMJS",
        "outputId": "478e683d-be90-4e04-a89c-091165a36e5d"
      },
      "execution_count": null,
      "outputs": [
        {
          "output_type": "stream",
          "name": "stdout",
          "text": [
            "0\n",
            "2\n",
            "4\n",
            "6\n",
            "8\n",
            "10\n",
            "12\n",
            "14\n",
            "16\n",
            "18\n",
            "20\n",
            "22\n",
            "24\n",
            "26\n",
            "28\n",
            "30\n",
            "32\n",
            "34\n",
            "36\n",
            "38\n"
          ]
        }
      ]
    },
    {
      "cell_type": "markdown",
      "source": [
        "# **03_wholesome_machine**"
      ],
      "metadata": {
        "id": "IR5crQ2MOsaK"
      }
    },
    {
      "cell_type": "code",
      "source": [
        "from typing import Tuple\n",
        "AFFIRMATION : str = \"I am capable of doing anything I put my mind to.\"\n",
        "\n",
        "\n",
        "def wholesome_machine() :\n",
        "  print(\"welcome to the wholesome machin\")\n",
        "\n",
        "  while True:\n",
        "    user_input = input(f\"Please type the following affirmation: {AFFIRMATION}\")\n",
        "\n",
        "    if user_input == AFFIRMATION:\n",
        "      print(\"That's right! :)\")\n",
        "      break\n",
        "\n",
        "    else:\n",
        "      print(\" That was not the affirmation. \")\n",
        "\n",
        "\n",
        "\n",
        "if __name__ == \"__main__\":\n",
        "  wholesome_machine()"
      ],
      "metadata": {
        "colab": {
          "base_uri": "https://localhost:8080/"
        },
        "id": "qL-Yj137Ovc7",
        "outputId": "26331d22-6dff-4d00-bf6c-379a220773b3"
      },
      "execution_count": 7,
      "outputs": [
        {
          "output_type": "stream",
          "name": "stdout",
          "text": [
            "welcome to the wholesome machin\n",
            "Please type the following affirmation: I am capable of doing anything I put my mind to.ok\n",
            " That was not the affirmation. \n",
            "Please type the following affirmation: I am capable of doing anything I put my mind to.I am capable of doing anything I put my mind to.\n",
            "That's right! :)\n"
          ]
        }
      ]
    },
    {
      "cell_type": "markdown",
      "source": [
        "# **04_liftoff**"
      ],
      "metadata": {
        "id": "KPAikbxISUW1"
      }
    },
    {
      "cell_type": "code",
      "source": [
        "def main():\n",
        "    for i in range(10, 0, -1):\n",
        "        print(i , end=\" \")\n",
        "    print(\"Liftoff!\")\n",
        "\n",
        "if __name__ == \"__main__\":\n",
        "    main()\n"
      ],
      "metadata": {
        "colab": {
          "base_uri": "https://localhost:8080/"
        },
        "id": "_tlVa7JUSYfI",
        "outputId": "08718501-c41f-49c3-da7e-1ffcbad04d96"
      },
      "execution_count": 16,
      "outputs": [
        {
          "output_type": "stream",
          "name": "stdout",
          "text": [
            "10 9 8 7 6 5 4 3 2 1 Liftoff!\n"
          ]
        }
      ]
    },
    {
      "cell_type": "markdown",
      "source": [
        "# **05_double_it**"
      ],
      "metadata": {
        "id": "DgoOsG9XU1re"
      }
    },
    {
      "cell_type": "code",
      "source": [
        "def main():\n",
        "  user_val = int(input(\"Please enter a number: \"))\n",
        "\n",
        "  while user_val < 100:\n",
        "    user_val *= 2\n",
        "    print(user_val)\n",
        "\n",
        "if __name__ == \"__main__\":\n",
        "  main()"
      ],
      "metadata": {
        "colab": {
          "base_uri": "https://localhost:8080/"
        },
        "id": "rZJgZw95U8RL",
        "outputId": "4deb223a-6efe-4aad-85fb-aee4e73c5bf5"
      },
      "execution_count": 21,
      "outputs": [
        {
          "output_type": "stream",
          "name": "stdout",
          "text": [
            "Please enter a number: 3\n",
            "6\n",
            "12\n",
            "24\n",
            "48\n",
            "96\n",
            "192\n"
          ]
        }
      ]
    }
  ]
}