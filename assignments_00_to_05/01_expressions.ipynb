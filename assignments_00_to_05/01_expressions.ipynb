{
  "nbformat": 4,
  "nbformat_minor": 0,
  "metadata": {
    "colab": {
      "provenance": [],
      "authorship_tag": "ABX9TyOl05NwFz6LGEFbhQolQzuG",
      "include_colab_link": true
    },
    "kernelspec": {
      "name": "python3",
      "display_name": "Python 3"
    },
    "language_info": {
      "name": "python"
    }
  },
  "cells": [
    {
      "cell_type": "markdown",
      "metadata": {
        "id": "view-in-github",
        "colab_type": "text"
      },
      "source": [
        "<a href=\"https://colab.research.google.com/github/itxHaroonKhan/python_home_asingment_4/blob/main/01_expressions.ipynb\" target=\"_parent\"><img src=\"https://colab.research.google.com/assets/colab-badge.svg\" alt=\"Open In Colab\"/></a>"
      ]
    },
    {
      "cell_type": "code",
      "execution_count": null,
      "metadata": {
        "colab": {
          "base_uri": "https://localhost:8080/"
        },
        "id": "hyrzoYgt9QtD",
        "outputId": "3b6400a4-e3ed-460d-86aa-1dda55b23739"
      },
      "outputs": [
        {
          "output_type": "stream",
          "name": "stdout",
          "text": [
            "die 1 in main() : 10\n",
            "Total of 2 dice is : 9\n",
            "Total of 2 dice is : 5\n",
            "Total of 2 dice is : 5\n",
            "die 1 in main() : 10\n"
          ]
        }
      ],
      "source": [
        "import random\n",
        "\n",
        "def rool_dice():\n",
        "  die1:int = random.randint(1,6)\n",
        "  die2:int = random.randrange(1,6)\n",
        "  total = die1 + die2\n",
        "  print(f\"Total of 2 dice is : {total}\")\n",
        "\n",
        "\n",
        "def main():\n",
        "  die1:int = 10\n",
        "  print(f\"die 1 in main() : {die1}\")\n",
        "  rool_dice()\n",
        "  rool_dice()\n",
        "  rool_dice()\n",
        "  print(f\"die 1 in main() : {die1}\")\n",
        "\n",
        "\n",
        "if __name__ == \"__main__\":\n",
        "  main()\n",
        "\n"
      ]
    },
    {
      "cell_type": "markdown",
      "source": [
        "# **02_e=mc2.md**"
      ],
      "metadata": {
        "id": "k-2k1TtfDFx2"
      }
    },
    {
      "cell_type": "code",
      "source": [
        "def energy():\n",
        "  c:float = 299792458\n",
        "  m:float = float(input(\"Enter Kilos of mass :\"))\n",
        "  print(\"e = m * C^2...\")\n",
        "  print(\"Mass =\" + str(m)+ \"Kg\")\n",
        "  print(\"C = \"+ str(c) + \"m/s\")\n",
        "  print(\"e = \"+ str(m*c ** 2)+ \"jules\")\n",
        "\n",
        "\n",
        "if __name__ == \"__main__\":\n",
        "  energy()\n",
        "\n"
      ],
      "metadata": {
        "colab": {
          "base_uri": "https://localhost:8080/"
        },
        "id": "eZMHVu9NFJSN",
        "outputId": "d23ddf4c-fef1-4021-8667-7b21668439f2"
      },
      "execution_count": null,
      "outputs": [
        {
          "output_type": "stream",
          "name": "stdout",
          "text": [
            "Enter Kilos of mass :56\n",
            "e = m * C^2...\n",
            "Mass =56.0Kg\n",
            "C = 299792458m/s\n",
            "e = 5.033029000926178e+18jules\n"
          ]
        }
      ]
    },
    {
      "cell_type": "markdown",
      "source": [
        "# **03_feet_to_inches**"
      ],
      "metadata": {
        "id": "IQcg8HOkM3cG"
      }
    },
    {
      "cell_type": "code",
      "source": [
        "inch :int = 12\n",
        "\n",
        "def foot():\n",
        "  feet:int = int(input(\"Enter Feet And i will convert into inches :\"))\n",
        "  print(f\"There are {inch*feet} Inches in {feet} Feet !\")\n",
        "\n",
        "if __name__ == \"__main__\":\n",
        "  foot()\n"
      ],
      "metadata": {
        "id": "TrZp65fiM2gh",
        "colab": {
          "base_uri": "https://localhost:8080/"
        },
        "outputId": "fd5e64d9-8b2b-478d-b850-3aebbf493e16"
      },
      "execution_count": null,
      "outputs": [
        {
          "output_type": "stream",
          "name": "stdout",
          "text": [
            "Enter Feet And i will convert into inches :50\n",
            "There are 600 Inches in 50 Feet !\n"
          ]
        }
      ]
    },
    {
      "cell_type": "markdown",
      "source": [
        "# **04_pythagorean_theorem**"
      ],
      "metadata": {
        "id": "4zud2afm1UGR"
      }
    },
    {
      "cell_type": "code",
      "source": [
        "import math\n",
        "def hypotenuse():\n",
        "  ab: float = float(input(\"Enter the length of AB: \"))\n",
        "  ac: float = float(input(\"Enter the length of AC: \"))\n",
        "\n",
        "  bc: float = math.sqrt(ab**2 + ac**2)\n",
        "  print(f\"The length of BC (the hypotenuse) is: {bc} \" )\n",
        "\n",
        "\n",
        "if __name__ == \"__main__\":\n",
        "  hypotenuse()\n"
      ],
      "metadata": {
        "id": "eE9PnSTV18rC",
        "colab": {
          "base_uri": "https://localhost:8080/"
        },
        "outputId": "3dfa6b1c-0a79-4e1f-9be1-613ee1b90abb"
      },
      "execution_count": 16,
      "outputs": [
        {
          "output_type": "stream",
          "name": "stdout",
          "text": [
            "Enter the length of AB: 5.33\n",
            "Enter the length of AC: 34\n",
            "The length of BC (the hypotenuse) is: 34.41524226269517 \n"
          ]
        }
      ]
    },
    {
      "cell_type": "markdown",
      "source": [
        "# **05_remainder_division**"
      ],
      "metadata": {
        "id": "1FwjGjwP4LFv"
      }
    },
    {
      "cell_type": "code",
      "source": [
        "def remainder():\n",
        "  divided:int = int(input(\"Please enter an integer to be divided :\"))\n",
        "  divisor: int = int(input(\"Please enter an integer to divide by : \"))\n",
        "\n",
        "  quotient:int = divided // divisor\n",
        "  remainder:int = divided % divisor\n",
        "\n",
        "  print(\"The result of this division is \" + str(quotient) + \" with a remainder of \" + str(remainder))\n",
        "\n",
        "if __name__ == \"__main__\":\n",
        "  remainder()"
      ],
      "metadata": {
        "colab": {
          "base_uri": "https://localhost:8080/"
        },
        "id": "RcJ_PjhO4UPX",
        "outputId": "a113d715-2809-4ebc-89c6-4027c1c55126"
      },
      "execution_count": 22,
      "outputs": [
        {
          "output_type": "stream",
          "name": "stdout",
          "text": [
            "Please enter an integer to be divided :45\n",
            "Please enter an integer to divide by : 2\n",
            "The result of this division is 22 with a remainder of 1\n"
          ]
        }
      ]
    },
    {
      "cell_type": "markdown",
      "source": [
        "# **06_rolldice**"
      ],
      "metadata": {
        "id": "h1gBWMQc8eRS"
      }
    },
    {
      "cell_type": "code",
      "source": [
        "import random\n",
        "\n",
        "def rolldice():\n",
        "  die1:int = random.randint(1,6)\n",
        "  die2:int = random.randint(1,6)\n",
        "\n",
        "  total = die1 + die2\n",
        "  print(f\"First die {die1} ! \")\n",
        "  print(f\"second die {die2} ! \")\n",
        "  print(f\"Total of dices is : {total}\")\n",
        "\n",
        "if __name__== \"__main__\":\n",
        "  rolldice()"
      ],
      "metadata": {
        "colab": {
          "base_uri": "https://localhost:8080/"
        },
        "id": "NLiNMLkk8kgT",
        "outputId": "91363a02-30d6-4ecf-ef62-c3ec7b9c6871"
      },
      "execution_count": 36,
      "outputs": [
        {
          "output_type": "stream",
          "name": "stdout",
          "text": [
            "First die 4 ! \n",
            "second die 1 ! \n",
            "Total of dices is : 5\n"
          ]
        }
      ]
    },
    {
      "cell_type": "markdown",
      "source": [
        "# **06_seconds_in_year**"
      ],
      "metadata": {
        "id": "RpmCg5dKAnes"
      }
    },
    {
      "cell_type": "code",
      "source": [
        "DAYS_PER_YEAR:int = 365\n",
        "HOURS_PER_DAY:int = 24\n",
        "MIN_PER_HOURS:int = 60\n",
        "SEC_PER_MIN:int = 60\n",
        "\n",
        "def seconds():\n",
        "  print(f\"There are {DAYS_PER_YEAR * HOURS_PER_DAY * MIN_PER_HOURS * SEC_PER_MIN} seconds in a year !\")\n",
        "\n",
        "\n",
        "if __name__ == \"__main__\":\n",
        "  seconds()\n"
      ],
      "metadata": {
        "colab": {
          "base_uri": "https://localhost:8080/"
        },
        "id": "Mz1aPg9KAvRu",
        "outputId": "55394fca-aab2-46e3-a5e9-e12d13cda182"
      },
      "execution_count": 37,
      "outputs": [
        {
          "output_type": "stream",
          "name": "stdout",
          "text": [
            "There are 31536000 seconds in a year !\n"
          ]
        }
      ]
    },
    {
      "cell_type": "markdown",
      "source": [
        "# **07_tiny_mad_lib**"
      ],
      "metadata": {
        "id": "a8Pst0KdCxGJ"
      }
    },
    {
      "cell_type": "code",
      "source": [
        "def mab_lib():\n",
        "  abjective :str = input(\"Please Type an Abjective And Press Enter\")\n",
        "  noun :str = input(\"Please Type a Noun And Press Enter\")\n",
        "  verb :str = input(\"Please Type a Verb And Press Enter\")\n",
        "\n",
        "  print(f\"Do you {verb} your {abjective} {noun} ?  !\")\n",
        "\n",
        "if __name__ == \"__main__\":\n",
        "  mab_lib()\n"
      ],
      "metadata": {
        "colab": {
          "base_uri": "https://localhost:8080/"
        },
        "id": "o7r-knj5C6eY",
        "outputId": "14891eae-b274-4011-a7fa-2cfdb5b4ab20"
      },
      "execution_count": 39,
      "outputs": [
        {
          "output_type": "stream",
          "name": "stdout",
          "text": [
            "Please Type an Abjective And Press EnterDog\n",
            "Please Type a Noun And Press EnterCute\n",
            "Please Type a Verb And Press EnterSleep\n",
            "Do you Sleep your Dog Cute ?  !\n"
          ]
        }
      ]
    }
  ]
}