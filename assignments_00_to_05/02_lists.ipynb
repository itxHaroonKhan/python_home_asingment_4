{
  "nbformat": 4,
  "nbformat_minor": 0,
  "metadata": {
    "colab": {
      "provenance": [],
      "authorship_tag": "ABX9TyMbCgcix4bC0LCmpgOkisCm",
      "include_colab_link": true
    },
    "kernelspec": {
      "name": "python3",
      "display_name": "Python 3"
    },
    "language_info": {
      "name": "python"
    }
  },
  "cells": [
    {
      "cell_type": "markdown",
      "metadata": {
        "id": "view-in-github",
        "colab_type": "text"
      },
      "source": [
        "<a href=\"https://colab.research.google.com/github/itxHaroonKhan/python_home_asingment_4/blob/main/02_lists.ipynb\" target=\"_parent\"><img src=\"https://colab.research.google.com/assets/colab-badge.svg\" alt=\"Open In Colab\"/></a>"
      ]
    },
    {
      "cell_type": "markdown",
      "source": [
        "# **01_add_many_number**"
      ],
      "metadata": {
        "id": "99l1rACyEtGm"
      }
    },
    {
      "cell_type": "code",
      "execution_count": null,
      "metadata": {
        "colab": {
          "base_uri": "https://localhost:8080/"
        },
        "id": "_p1A22uNEjiE",
        "outputId": "be8d577b-1551-4ae0-ab4b-e999e48802aa"
      },
      "outputs": [
        {
          "output_type": "stream",
          "name": "stdout",
          "text": [
            "15\n"
          ]
        }
      ],
      "source": [
        "def add_many_number(numbers) -> int:\n",
        "  num:int = 0\n",
        "  for i in numbers:\n",
        "    num += i\n",
        "  return num\n",
        "\n",
        "def add_mainnum():\n",
        "  numbers:list[int] = [1,2,3,4,5]\n",
        "  sum_result = add_many_number(numbers)\n",
        "  print(sum_result)\n",
        "\n",
        "if __name__ == \"__main__\":\n",
        "  add_mainnum()"
      ]
    },
    {
      "cell_type": "markdown",
      "source": [
        "# **02_double_list**"
      ],
      "metadata": {
        "id": "nt2B1Gz0ID8P"
      }
    },
    {
      "cell_type": "code",
      "source": [
        "def double_list():\n",
        "  numbers:list[int] = [1,2,3,4,5]\n",
        "  for i in range(len(numbers)):\n",
        "    numbers[i] *= 2\n",
        "  print(numbers)\n",
        "\n",
        "if __name__ == \"__main__\":\n",
        "  double_list()\n"
      ],
      "metadata": {
        "colab": {
          "base_uri": "https://localhost:8080/"
        },
        "id": "E8qsFp5GINSi",
        "outputId": "b1d04ecf-f894-47d6-ba3b-598f6c25f59b"
      },
      "execution_count": null,
      "outputs": [
        {
          "output_type": "stream",
          "name": "stdout",
          "text": [
            "[2, 4, 6, 8, 10]\n"
          ]
        }
      ]
    },
    {
      "cell_type": "markdown",
      "source": [
        "# **03_erase_canvas**"
      ],
      "metadata": {
        "id": "6sXBbTV5I6Vi"
      }
    },
    {
      "cell_type": "code",
      "source": [],
      "metadata": {
        "id": "yMq3d3qsJEme"
      },
      "execution_count": null,
      "outputs": []
    },
    {
      "cell_type": "markdown",
      "source": [
        "# **04_flowing_with_data_structures**\n"
      ],
      "metadata": {
        "id": "Nre4kzhILkvx"
      }
    },
    {
      "cell_type": "code",
      "source": [
        "def add_3_numbar(Lst,Data):\n",
        "  for i in range(3):\n",
        "    Lst.append(Data)\n",
        "\n",
        "\n",
        "def user_input():\n",
        "  message = input(\"Enter a Massge a Copy : \")\n",
        "  Lst = []\n",
        "  print(f\"Before List {Lst}\")\n",
        "\n",
        "  add_3_numbar(Lst,message)\n",
        "  print(f\"After List {Lst}\")\n",
        "\n",
        "if __name__ == \"__main__\":\n",
        "  user_input()\n",
        "\n"
      ],
      "metadata": {
        "colab": {
          "base_uri": "https://localhost:8080/"
        },
        "id": "2b7NWIczL2aJ",
        "outputId": "c05cc499-ca42-4118-9944-99c25f761aa1"
      },
      "execution_count": null,
      "outputs": [
        {
          "output_type": "stream",
          "name": "stdout",
          "text": [
            "Enter a Massge a Copy : sir\n",
            "Before List []\n",
            "After List ['sir', 'sir', 'sir']\n"
          ]
        }
      ]
    },
    {
      "cell_type": "markdown",
      "source": [
        "# **05_get_first_element**"
      ],
      "metadata": {
        "id": "3oT_b8hcO6gd"
      }
    },
    {
      "cell_type": "code",
      "source": [
        "def Get_First_Element(Lst):\n",
        "  print(Lst[0])\n",
        "\n",
        "def get_List():\n",
        "  Lst = []\n",
        "  elemnt = input(\"Enter an Element to List : \")\n",
        "  while elemnt != \"\":\n",
        "    Lst.append(elemnt)\n",
        "    elemnt = input(\"Enter an Element to List : \")\n",
        "  Get_First_Element(Lst)\n",
        "\n",
        "if __name__ == \"__main__\":\n",
        "  get_List()\n"
      ],
      "metadata": {
        "colab": {
          "base_uri": "https://localhost:8080/"
        },
        "id": "e-kuYd7-PAoE",
        "outputId": "c4af3bdc-9e35-4e11-ea4e-9089ab33578d"
      },
      "execution_count": null,
      "outputs": [
        {
          "output_type": "stream",
          "name": "stdout",
          "text": [
            "Enter an Element to List : H\n",
            "Enter an Element to List : a\n",
            "Enter an Element to List : r\n",
            "Enter an Element to List : o\n",
            "Enter an Element to List : o\n",
            "Enter an Element to List : n\n",
            "Enter an Element to List : \n",
            "H\n"
          ]
        }
      ]
    },
    {
      "cell_type": "markdown",
      "source": [
        "# **06_get_last_element**"
      ],
      "metadata": {
        "id": "Gkp4zS-ISDWc"
      }
    },
    {
      "cell_type": "code",
      "source": [
        "def Get_List_Element(Lst):\n",
        "  print(Lst[-1])\n",
        "\n",
        "def get_List():\n",
        "  Lst = []\n",
        "  elemnt = input(\"Enter an Element to List : \")\n",
        "  while elemnt != \"\":\n",
        "    Lst.append(elemnt)\n",
        "    elemnt = input(\"Enter an Element to List : \")\n",
        "  Get_List_Element(Lst)\n",
        "\n",
        "if __name__ == \"__main__\":\n",
        "  get_List()\n"
      ],
      "metadata": {
        "colab": {
          "base_uri": "https://localhost:8080/"
        },
        "id": "UIYNVuC-RizU",
        "outputId": "bbcf5a84-fd16-4246-e3d8-8cd8fb80a514"
      },
      "execution_count": null,
      "outputs": [
        {
          "output_type": "stream",
          "name": "stdout",
          "text": [
            "Enter an Element to List : r\n",
            "Enter an Element to List : a\n",
            "Enter an Element to List : s\n",
            "Enter an Element to List : h\n",
            "Enter an Element to List : e\n",
            "Enter an Element to List : e\n",
            "Enter an Element to List : d\n",
            "Enter an Element to List : \n",
            "d\n"
          ]
        }
      ]
    },
    {
      "cell_type": "markdown",
      "source": [
        "# **07_get_list**"
      ],
      "metadata": {
        "id": "TyTSJNXbUZSK"
      }
    },
    {
      "cell_type": "code",
      "source": [
        "def main():\n",
        "  add_list = []\n",
        "  val = input(\"Enter a Value i will make a list : \")\n",
        "  while val != \"\":\n",
        "    add_list.append(val)\n",
        "    val = input(\"Enter a Value i will make a list : \")\n",
        "  print(f\"Here's The List : {add_list}\")\n",
        "\n",
        "\n",
        "if __name__ == \"__main__\":\n",
        "  main()"
      ],
      "metadata": {
        "colab": {
          "base_uri": "https://localhost:8080/"
        },
        "id": "kDrXd6M5S7Mu",
        "outputId": "061570de-c794-4cca-c2fd-cf12698303d0"
      },
      "execution_count": null,
      "outputs": [
        {
          "output_type": "stream",
          "name": "stdout",
          "text": [
            "Enter a Value i will make a list : Haroon\n",
            "Enter a Value i will make a list : Hamza\n",
            "Enter a Value i will make a list : taha\n",
            "Enter a Value i will make a list : \n",
            "Here's The List : ['Haroon', 'Hamza', 'taha']\n"
          ]
        }
      ]
    },
    {
      "cell_type": "markdown",
      "source": [
        "# **08_shorten**"
      ],
      "metadata": {
        "id": "vO-63X4dWPhQ"
      }
    },
    {
      "cell_type": "code",
      "source": [
        "MAX_LENGTH: int = 3\n",
        "\n",
        "def shorten(lst):\n",
        "    while len(lst) > MAX_LENGTH:\n",
        "        removed_element = lst.pop()\n",
        "        print(f\"Removed: {removed_element}\")\n",
        "\n",
        "def get_list():\n",
        "    lst = []\n",
        "    element = input(\"Enter an element to add to the list (press Enter to stop): \")\n",
        "    while element != \"\":\n",
        "        lst.append(element)\n",
        "        element = input(\"Enter an element to add to the list (press Enter to stop): \")\n",
        "    return lst\n",
        "\n",
        "def main():\n",
        "    lst = get_list()\n",
        "    shorten(lst)\n",
        "    print(f\"Final Shortened List: {lst}\")\n",
        "if __name__ == \"__main__\":\n",
        "    main()\n"
      ],
      "metadata": {
        "colab": {
          "base_uri": "https://localhost:8080/"
        },
        "id": "LKLDZhQ1WYiJ",
        "outputId": "94027cb4-ca2c-4fb0-bd00-edf28de3f0e4"
      },
      "execution_count": null,
      "outputs": [
        {
          "output_type": "stream",
          "name": "stdout",
          "text": [
            "Enter an element to add to the list (press Enter to stop): haroon\n",
            "Enter an element to add to the list (press Enter to stop): taha\n",
            "Enter an element to add to the list (press Enter to stop): jamal\n",
            "Enter an element to add to the list (press Enter to stop): hamza\n",
            "Enter an element to add to the list (press Enter to stop): asim\n",
            "Enter an element to add to the list (press Enter to stop): \n",
            "Removed: asim\n",
            "Removed: hamza\n",
            "Final Shortened List: ['haroon', 'taha', 'jamal']\n"
          ]
        }
      ]
    }
  ]
}