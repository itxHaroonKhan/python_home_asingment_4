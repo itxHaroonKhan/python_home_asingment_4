{
  "nbformat": 4,
  "nbformat_minor": 0,
  "metadata": {
    "colab": {
      "provenance": [],
      "authorship_tag": "ABX9TyNKc+C5BjuaaI3hK2lu99ST",
      "include_colab_link": true
    },
    "kernelspec": {
      "name": "python3",
      "display_name": "Python 3"
    },
    "language_info": {
      "name": "python"
    }
  },
  "cells": [
    {
      "cell_type": "markdown",
      "metadata": {
        "id": "view-in-github",
        "colab_type": "text"
      },
      "source": [
        "<a href=\"https://colab.research.google.com/github/itxHaroonKhan/python_home_asingment_4/blob/main/04_dictionaries.ipynb\" target=\"_parent\"><img src=\"https://colab.research.google.com/assets/colab-badge.svg\" alt=\"Open In Colab\"/></a>"
      ]
    },
    {
      "cell_type": "markdown",
      "source": [
        "# **00_count_nums**"
      ],
      "metadata": {
        "id": "72Skfwkuj90a"
      }
    },
    {
      "cell_type": "code",
      "source": [
        "def count_nums():\n",
        "    count_dis = {}\n",
        "\n",
        "    while True:\n",
        "        num = input(\"Enter a number (type 'Exit' to stop): \")\n",
        "        if num.lower() == \"exit\":\n",
        "            break\n",
        "        if num.isdigit():\n",
        "            num = int(num)\n",
        "            count_dis[num] = count_dis.get(num, 0) + 1\n",
        "        else:\n",
        "            print(\"❌ Please enter a valid number or type 'Exit' to quit.\")\n",
        "\n",
        "    return count_dis\n",
        "\n",
        "\n",
        "def display_results(count_dis):\n",
        "    print(\"\\n📊 Number count:\")\n",
        "    for key, value in count_dis.items():\n",
        "        print(f\"{key} appears {value} times.\")\n",
        "\n",
        "\n",
        "if __name__ == \"__main__\":\n",
        "    count_data = count_nums()\n",
        "    display_results(count_data)\n"
      ],
      "metadata": {
        "colab": {
          "base_uri": "https://localhost:8080/"
        },
        "id": "cT5ZdkalpLcl",
        "outputId": "23a464fb-b622-4491-8604-a14cce069f45"
      },
      "execution_count": null,
      "outputs": [
        {
          "output_type": "stream",
          "name": "stdout",
          "text": [
            "Enter a number (type 'Exit' to stop): 5\n",
            "Enter a number (type 'Exit' to stop): 7\n",
            "Enter a number (type 'Exit' to stop): 5\n",
            "Enter a number (type 'Exit' to stop): 4\n",
            "Enter a number (type 'Exit' to stop): 3\n",
            "Enter a number (type 'Exit' to stop): exit\n",
            "\n",
            "📊 Number count:\n",
            "5 appears 2 times.\n",
            "7 appears 1 times.\n",
            "4 appears 1 times.\n",
            "3 appears 1 times.\n"
          ]
        }
      ]
    },
    {
      "cell_type": "markdown",
      "source": [
        "# **01_phonebook**"
      ],
      "metadata": {
        "id": "cfdJidBHqXIH"
      }
    },
    {
      "cell_type": "code",
      "source": [
        "def add_contact(phonebook):\n",
        "    name = input(\"Enter the name: \")\n",
        "    phone = input(\"Enter the phone number: \")\n",
        "    email = input(\"Enter the email address: \")\n",
        "\n",
        "    if name in phonebook:\n",
        "        print(f\"❌ Contact '{name}' already exists.\")\n",
        "    else:\n",
        "        phonebook[name] = {\"Phone\": phone, \"Email\": email}\n",
        "        print(f\"✅ Contact '{name}' added successfully.\")\n",
        "\n",
        "\n",
        "def search_contact(phonebook):\n",
        "    name = input(\"Enter the name to search: \")\n",
        "    if name in phonebook:\n",
        "        contact_info = phonebook[name]\n",
        "        print(f\"\\n📞 Contact Found: \\nName: {name}\\nPhone: {contact_info['Phone']}\\nEmail: {contact_info['Email']}\")\n",
        "    else:\n",
        "        print(f\"❌ Contact '{name}' not found.\")\n",
        "\n",
        "\n",
        "def delete_contact(phonebook):\n",
        "    name = input(\"Enter the name to delete: \")\n",
        "    if name in phonebook:\n",
        "        del phonebook[name]\n",
        "        print(f\"✅ Contact '{name}' deleted successfully.\")\n",
        "    else:\n",
        "        print(f\"❌ Contact '{name}' not found.\")\n",
        "\n",
        "\n",
        "def display_contacts(phonebook):\n",
        "    if not phonebook:\n",
        "        print(\"❌ No contacts found.\")\n",
        "        return\n",
        "    print(\"\\n📋 Contact List:\")\n",
        "    for name, contact_info in phonebook.items():\n",
        "        print(f\"Name: {name}\\nPhone: {contact_info['Phone']}\\nEmail: {contact_info['Email']}\\n\")\n",
        "\n",
        "\n",
        "def main():\n",
        "    phonebook = {}\n",
        "\n",
        "    while True:\n",
        "        print(\"\\n📱 Phonebook Menu:\")\n",
        "        print(\"1. Add Contact\")\n",
        "        print(\"2. Search Contact\")\n",
        "        print(\"3. Delete Contact\")\n",
        "        print(\"4. Display All Contacts\")\n",
        "        print(\"5. Exit\")\n",
        "\n",
        "        choice = input(\"Enter your choice: \")\n",
        "\n",
        "        if choice == \"1\":\n",
        "            add_contact(phonebook)\n",
        "        elif choice == \"2\":\n",
        "            search_contact(phonebook)\n",
        "        elif choice == \"3\":\n",
        "            delete_contact(phonebook)\n",
        "        elif choice == \"4\":\n",
        "            display_contacts(phonebook)\n",
        "        elif choice == \"5\":\n",
        "            print(\"📴 Exiting phonebook. Goodbye!\")\n",
        "            break\n",
        "        else:\n",
        "            print(\"❌ Invalid choice! Please enter a number between 1-5.\")\n",
        "\n",
        "if __name__ == \"__main__\":\n",
        "    main()\n"
      ],
      "metadata": {
        "colab": {
          "base_uri": "https://localhost:8080/"
        },
        "id": "kWq45Oq6qZ9l",
        "outputId": "ee07e268-df76-4a2a-8c6b-ce4bfccf2591"
      },
      "execution_count": null,
      "outputs": [
        {
          "output_type": "stream",
          "name": "stdout",
          "text": [
            "\n",
            "📱 Phonebook Menu:\n",
            "1. Add Contact\n",
            "2. Search Contact\n",
            "3. Delete Contact\n",
            "4. Display All Contacts\n",
            "5. Exit\n",
            "Enter your choice: 1\n",
            "Enter the name: Haroon\n",
            "Enter the phone number: 03412231142\n",
            "Enter the email address: itxharoon@gmil.com\n",
            "✅ Contact 'Haroon' added successfully.\n",
            "\n",
            "📱 Phonebook Menu:\n",
            "1. Add Contact\n",
            "2. Search Contact\n",
            "3. Delete Contact\n",
            "4. Display All Contacts\n",
            "5. Exit\n",
            "Enter your choice: 5\n",
            "📴 Exiting phonebook. Goodbye!\n"
          ]
        }
      ]
    },
    {
      "cell_type": "markdown",
      "source": [
        "# **02_pop_up_shop**"
      ],
      "metadata": {
        "id": "VBGd5ucYtOzb"
      }
    },
    {
      "cell_type": "code",
      "source": [
        "def main():\n",
        "\n",
        "    fruits = {\n",
        "        'Apple': 1.5,\n",
        "        'Banana': 0.5,\n",
        "        'Grapes': 3,\n",
        "        'Mango': 5,\n",
        "        'Apricot': 2,\n",
        "        'Pomegranate': 4\n",
        "    }\n",
        "\n",
        "    total_cost = 0\n",
        "\n",
        "    for fruit_name, price in fruits.items():\n",
        "        while True:\n",
        "            try:\n",
        "                amount_bought = int(input(f\"📢 How many ({fruit_name}) do you want to buy?: \"))\n",
        "                if amount_bought < 0:\n",
        "                    print(\"❌ Please enter a positive number!\")\n",
        "                    continue\n",
        "                total_cost += price * amount_bought\n",
        "                break\n",
        "            except ValueError:\n",
        "                print(\"❌ Please enter a valid number!\")\n",
        "\n",
        "    print(f\"\\n💰 Your total cost is: ${total_cost:.2f}\")\n",
        "\n",
        "\n",
        "if __name__ == \"__main__\":\n",
        "    main()\n",
        "2"
      ],
      "metadata": {
        "colab": {
          "base_uri": "https://localhost:8080/"
        },
        "id": "Ho8lm3dexmVV",
        "outputId": "480b3c18-4995-4f43-d43c-ac35a4f05c9c"
      },
      "execution_count": null,
      "outputs": [
        {
          "output_type": "stream",
          "name": "stdout",
          "text": [
            "📢 How many (Apple) do you want to buy?: 4\n",
            "📢 How many (Banana) do you want to buy?: 3\n",
            "📢 How many (Grapes) do you want to buy?: 4\n",
            "📢 How many (Mango) do you want to buy?: 5\n",
            "📢 How many (Apricot) do you want to buy?: 5\n",
            "📢 How many (Pomegranate) do you want to buy?: 6\n",
            "\n",
            "💰 Your total cost is: $78.50\n"
          ]
        }
      ]
    },
    {
      "cell_type": "markdown",
      "source": [
        "# **03_powerful_passwords**"
      ],
      "metadata": {
        "id": "maEO_W9otaRX"
      }
    },
    {
      "cell_type": "code",
      "source": [
        "import hashlib\n",
        "\n",
        "\n",
        "def hash_password(password):\n",
        "    return hashlib.sha256(password.encode()).hexdigest()\n",
        "\n",
        "stored_logins = {\n",
        "    \"itxharoonkhan@gmail.com\": hash_password(\"mypassword123\"),\n",
        "    \"admin@example.com\": hash_password(\"admin@123\"),\n",
        "}\n",
        "\n",
        "def login(email, password_to_check):\n",
        "    if email in stored_logins and stored_logins[email] == hash_password(password_to_check):\n",
        "        return True\n",
        "    return False\n",
        "\n",
        "\n",
        "email = input(\"Enter your email: \")\n",
        "password = input(\"Enter your password: \")\n",
        "\n",
        "if login(email, password):\n",
        "    print(\"✅ Login Successful!\")\n",
        "else:\n",
        "    print(\"❌ Invalid email or password!\")\n"
      ],
      "metadata": {
        "colab": {
          "base_uri": "https://localhost:8080/"
        },
        "id": "yt4RGL-GteDh",
        "outputId": "34f224e7-537a-41e8-816e-a23027a25daa"
      },
      "execution_count": 3,
      "outputs": [
        {
          "output_type": "stream",
          "name": "stdout",
          "text": [
            "Enter your email: itxharoonkhan@gmail.com\n",
            "Enter your password: mypassword123\n",
            "✅ Login Successful!\n"
          ]
        }
      ]
    }
  ]
}