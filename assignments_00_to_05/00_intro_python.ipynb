{
  "nbformat": 4,
  "nbformat_minor": 0,
  "metadata": {
    "colab": {
      "provenance": [],
      "include_colab_link": true
    },
    "kernelspec": {
      "name": "python3",
      "display_name": "Python 3"
    },
    "language_info": {
      "name": "python"
    }
  },
  "cells": [
    {
      "cell_type": "markdown",
      "metadata": {
        "id": "view-in-github",
        "colab_type": "text"
      },
      "source": [
        "<a href=\"https://colab.research.google.com/github/itxHaroonKhan/python_home_asingment_4/blob/main/class1.ipynb\" target=\"_parent\"><img src=\"https://colab.research.google.com/assets/colab-badge.svg\" alt=\"Open In Colab\"/></a>"
      ]
    },
    {
      "cell_type": "code",
      "execution_count": null,
      "metadata": {
        "id": "yHgDC4EHuw9j"
      },
      "outputs": [],
      "source": []
    },
    {
      "cell_type": "markdown",
      "source": [
        "# **01_add_two_numbers.md**"
      ],
      "metadata": {
        "id": "VNzP_x9-vh2S"
      }
    },
    {
      "cell_type": "code",
      "source": [
        "def sum():\n",
        "  num1=input(\"Enter Your First Number: \")\n",
        "  num1:int=int(num1)\n",
        "  num2=input(\"Enter your Second Number: \")\n",
        "  num2:int=int(num2)\n",
        "\n",
        "  print(f\"the total of {num1} and {num2} is : {num1+num2}\")\n",
        "\n",
        "if __name__==\"__main__\":\n",
        "  sum()\n"
      ],
      "metadata": {
        "colab": {
          "base_uri": "https://localhost:8080/"
        },
        "id": "hKEtW5ELvoOM",
        "outputId": "97a95d65-e1e2-4f6a-b660-94a37f7e9366"
      },
      "execution_count": null,
      "outputs": [
        {
          "output_type": "stream",
          "name": "stdout",
          "text": [
            "Enter Your First Number: 33\n",
            "Enter your Second Number: 22\n",
            "the total of 33 and 22 is : 55\n"
          ]
        }
      ]
    },
    {
      "cell_type": "markdown",
      "source": [
        "# **02_agreement_bot.md**"
      ],
      "metadata": {
        "id": "jCWjb9Vz2ncp"
      }
    },
    {
      "cell_type": "code",
      "source": [
        "def bot():\n",
        "  animal=input(\"Enter Your Faviourte Animal name: \")\n",
        "  print(f\"My favorite animal is also {animal}\")\n",
        "\n",
        "if __name__==\"__main__\":\n",
        "  bot()\n"
      ],
      "metadata": {
        "colab": {
          "base_uri": "https://localhost:8080/"
        },
        "id": "EgGfGrAC2q5A",
        "outputId": "ab34b232-e8c1-444b-f3a1-6ccafaafb8b9"
      },
      "execution_count": null,
      "outputs": [
        {
          "output_type": "stream",
          "name": "stdout",
          "text": [
            "Enter Your Faviourte Animal name: cat\n",
            "My favorite animal is also cat\n"
          ]
        }
      ]
    },
    {
      "cell_type": "markdown",
      "source": [
        "# **03_fahrenheit_to_celsius.md**"
      ],
      "metadata": {
        "id": "U_QybGJg6H12"
      }
    },
    {
      "cell_type": "code",
      "source": [
        "def temp():\n",
        "  fehrenheit_temp=float(input(\"Enter your Fehrenheit Temperature: \"))\n",
        "  celsius_temp:float=(fehrenheit_temp - 32) *5.0 /9.0\n",
        "\n",
        "  print(f\"{fehrenheit_temp} Fehrenheit is equal to {celsius_temp} Celsius\")\n",
        "\n",
        "if __name__==\"__main__\":\n",
        "  temp()"
      ],
      "metadata": {
        "colab": {
          "base_uri": "https://localhost:8080/"
        },
        "id": "SMutV8XA6LQG",
        "outputId": "8719f686-26b8-4074-f63f-2f2c89c8f5e2"
      },
      "execution_count": null,
      "outputs": [
        {
          "output_type": "stream",
          "name": "stdout",
          "text": [
            "Enter your Fehrenheit Temperature: 70\n",
            "70.0 Fehrenheit is equal to 21.11111111111111 Celsius\n"
          ]
        }
      ]
    },
    {
      "cell_type": "markdown",
      "source": [
        "# **04_how_old_are_they.md**"
      ],
      "metadata": {
        "id": "JR3CqfE78gg6"
      }
    },
    {
      "cell_type": "code",
      "source": [
        "def age():\n",
        "  anton :int = 21\n",
        "\n",
        "  beth :int= anton + 6   #   27\n",
        "\n",
        "  chen : int= beth + 20   # 47\n",
        "\n",
        "  drew:int= anton + chen  #68\n",
        "\n",
        "  ethan :int= chen  # 47\n",
        "\n",
        "\n",
        "  print(f\"Anton is {anton} years old\")\n",
        "  print(f\"Beth is {beth} years old\")\n",
        "  print(f\"Chen is {chen} years old\")\n",
        "  print(f\"Drew is {drew} years old\")\n",
        "  print(f\"Ethan is {ethan} years old\")\n",
        "\n",
        "\n",
        "if __name__==\"__main__\":\n",
        "    age()"
      ],
      "metadata": {
        "colab": {
          "base_uri": "https://localhost:8080/"
        },
        "id": "V0nIiuqm8nNt",
        "outputId": "b4443797-f1cd-4c85-ae31-2b745fe7018a"
      },
      "execution_count": null,
      "outputs": [
        {
          "output_type": "stream",
          "name": "stdout",
          "text": [
            "Anton is 21 years old\n",
            "Beth is 27 years old\n",
            "Chen is 47 years old\n",
            "Drew is 68 years old\n",
            "Ethan is 47 years old\n"
          ]
        }
      ]
    },
    {
      "cell_type": "markdown",
      "source": [
        "# **05_triangle_perimeter.md**"
      ],
      "metadata": {
        "id": "hIRAbbNVCZzl"
      }
    },
    {
      "cell_type": "code",
      "source": [
        "def triangle_length():\n",
        "  side1=float(input(\"Enter the length of the first side: \"))\n",
        "  side2=float(input(\"Enter the length of the second side: \"))\n",
        "  side3=float(input(\"Enter the length of the third side: \"))\n",
        "\n",
        "  perimeter=side1+side2+side3\n",
        "\n",
        "  print(f\"The perimeter of the triangle is {perimeter}\")\n",
        "\n",
        "if __name__==\"__main__\":\n",
        "  triangle_length()"
      ],
      "metadata": {
        "colab": {
          "base_uri": "https://localhost:8080/"
        },
        "id": "1iwLosHHCcVc",
        "outputId": "bb354a04-a439-4130-bee4-d6c11e7321fc"
      },
      "execution_count": null,
      "outputs": [
        {
          "output_type": "stream",
          "name": "stdout",
          "text": [
            "Enter the length of the first side: 4.6\n",
            "Enter the length of the second side: 3\n",
            "Enter the length of the third side: 7.7\n",
            "The perimeter of the triangle is 15.3\n"
          ]
        }
      ]
    },
    {
      "cell_type": "markdown",
      "source": [
        "# **06_square_number.md**"
      ],
      "metadata": {
        "id": "WSlYW6GUDHZ0"
      }
    },
    {
      "cell_type": "code",
      "source": [
        "def square():\n",
        "  number=float(input(\"Type a number to see its square:\"))\n",
        "\n",
        "  print(f\"The square of {number} is {number**2}\")\n",
        "\n",
        "if __name__==\"__main__\":\n",
        "  square()"
      ],
      "metadata": {
        "colab": {
          "base_uri": "https://localhost:8080/"
        },
        "id": "e3NxVx7pDVGS",
        "outputId": "f1cc0997-eefc-47a5-9d73-c46486790d8f"
      },
      "execution_count": null,
      "outputs": [
        {
          "output_type": "stream",
          "name": "stdout",
          "text": [
            "Type a number to see its square:4\n",
            "The square of 4.0 is 16.0\n"
          ]
        }
      ]
    },
    {
      "cell_type": "code",
      "source": [],
      "metadata": {
        "id": "1H0eN1k2ELoI"
      },
      "execution_count": null,
      "outputs": []
    }
  ]
}