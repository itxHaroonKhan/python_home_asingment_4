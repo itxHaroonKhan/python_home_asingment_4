{
  "nbformat": 4,
  "nbformat_minor": 0,
  "metadata": {
    "colab": {
      "provenance": [],
      "authorship_tag": "ABX9TyPc6GVvb0i58ycP1aBLepiQ",
      "include_colab_link": true
    },
    "kernelspec": {
      "name": "python3",
      "display_name": "Python 3"
    },
    "language_info": {
      "name": "python"
    }
  },
  "cells": [
    {
      "cell_type": "markdown",
      "metadata": {
        "id": "view-in-github",
        "colab_type": "text"
      },
      "source": [
        "<a href=\"https://colab.research.google.com/github/itxHaroonKhan/python_home_asingment_4/blob/main/03_if_statements.ipynb\" target=\"_parent\"><img src=\"https://colab.research.google.com/assets/colab-badge.svg\" alt=\"Open In Colab\"/></a>"
      ]
    },
    {
      "cell_type": "markdown",
      "source": [
        "# **01_print_events**"
      ],
      "metadata": {
        "id": "eMTKbVsV2ZNR"
      }
    },
    {
      "cell_type": "code",
      "execution_count": null,
      "metadata": {
        "colab": {
          "base_uri": "https://localhost:8080/"
        },
        "id": "ypGPmxqF2OEI",
        "outputId": "3ffd26cb-d220-4fa2-a85f-ff211f8d7bb3"
      },
      "outputs": [
        {
          "output_type": "stream",
          "name": "stdout",
          "text": [
            " evets numbar : 0\n",
            " evets numbar : 2\n",
            " evets numbar : 4\n",
            " evets numbar : 6\n",
            " evets numbar : 8\n",
            " evets numbar : 10\n",
            " evets numbar : 12\n",
            " evets numbar : 14\n",
            " evets numbar : 16\n",
            " evets numbar : 18\n",
            " evets numbar : 20\n",
            " evets numbar : 22\n",
            " evets numbar : 24\n",
            " evets numbar : 26\n",
            " evets numbar : 28\n",
            " evets numbar : 30\n",
            " evets numbar : 32\n",
            " evets numbar : 34\n",
            " evets numbar : 36\n",
            " evets numbar : 38\n"
          ]
        }
      ],
      "source": [
        "def evevts_numbar():\n",
        "  for i in range(0,20):\n",
        "    evevts = i * 2\n",
        "    print(f\" evets numbar : {evevts}\")\n",
        "\n",
        "if __name__ == '__main__':\n",
        "  evevts_numbar()\n"
      ]
    },
    {
      "cell_type": "markdown",
      "source": [
        "# **02_international_voting_age**"
      ],
      "metadata": {
        "id": "THmPn1Td5SCy"
      }
    },
    {
      "cell_type": "code",
      "source": [
        "Peturksbouipo: int = 16\n",
        "Stanlau: int = 25\n",
        "Mayengua: int = 48\n",
        "\n",
        "def international_voting_age():\n",
        "    age = int(input(\"Enter your age: \"))\n",
        "\n",
        "    if age >= Peturksbouipo:\n",
        "        print(f\"You are age {age} You are eligible to vote in Peturksbouipo.\")\n",
        "    else:\n",
        "        print(f\"You are age {age} You are not eligible to vote in Peturksbouipo.\")\n",
        "\n",
        "    if age >= Stanlau:\n",
        "        print(f\"You are age {age} You are eligible to vote in Stanlau.\")\n",
        "    else:\n",
        "        print(f\"You are age {age} You are not eligible to vote in Stanlau.\")\n",
        "\n",
        "    if age >= Mayengua:\n",
        "        print(f\"You are age {age} You are eligible to vote in Mayengua.\")\n",
        "    else:\n",
        "        print(f\"You are age {age} You are not eligible to vote in Mayengua.\")\n",
        "\n",
        "if __name__ == '__main__':\n",
        "    international_voting_age()\n"
      ],
      "metadata": {
        "colab": {
          "base_uri": "https://localhost:8080/"
        },
        "id": "9vXS4rXX4uP_",
        "outputId": "3e2e7ac1-443c-4af3-ad8c-d0e742d664d8"
      },
      "execution_count": null,
      "outputs": [
        {
          "output_type": "stream",
          "name": "stdout",
          "text": [
            "Enter your age: 45\n",
            "You are age 45 You are eligible to vote in Peturksbouipo.\n",
            "You are age 45 You are eligible to vote in Stanlau.\n",
            "You are age 45 You are not eligible to vote in Mayengua.\n"
          ]
        }
      ]
    },
    {
      "cell_type": "markdown",
      "source": [
        "# **03_leap_year**"
      ],
      "metadata": {
        "id": "sFn25c-wkq3P"
      }
    },
    {
      "cell_type": "code",
      "source": [
        "def leap_year():\n",
        "    year = int(input(\"Enter a year: \"))\n",
        "\n",
        "    if (year % 4 == 0 and year % 100 != 0) or (year % 400 == 0):\n",
        "        print(f\"{year} is a leap year.\")\n",
        "\n",
        "    else:\n",
        "        print(f\"{year} is not a leap year.\")\n",
        "\n",
        "if __name__ == '__main__':\n",
        "    leap_year()"
      ],
      "metadata": {
        "colab": {
          "base_uri": "https://localhost:8080/"
        },
        "id": "vK_pQIEKk1ge",
        "outputId": "27ad7240-f07c-473f-ea79-e582e00e29b8"
      },
      "execution_count": 3,
      "outputs": [
        {
          "output_type": "stream",
          "name": "stdout",
          "text": [
            "Enter a year: 2024\n",
            "2024 is a leap year.\n"
          ]
        }
      ]
    },
    {
      "cell_type": "markdown",
      "source": [
        "# **04_tall_enough_to_ride**"
      ],
      "metadata": {
        "id": "-6WAlwDjlsKb"
      }
    },
    {
      "cell_type": "code",
      "source": [
        "min_height: int = 50\n",
        "\n",
        "def tall_enough_to_ride():\n",
        "  user :int = int(input(\"How tell are you ? :\"))\n",
        "  if user >= min_height:\n",
        "    print(\"You're tall enough to ride!\")\n",
        "  else:\n",
        "    print(\"You're not tall enough to ride, but maybe next year!\")\n",
        "\n",
        "if __name__ == '__main__':\n",
        "  tall_enough_to_ride()"
      ],
      "metadata": {
        "colab": {
          "base_uri": "https://localhost:8080/"
        },
        "id": "oGO6UsWjluFg",
        "outputId": "c2d10ec2-06e0-405c-d22d-a5dbefc74e90"
      },
      "execution_count": 6,
      "outputs": [
        {
          "output_type": "stream",
          "name": "stdout",
          "text": [
            "How tell are you ? :4\n",
            "You're not tall enough to ride, but maybe next year!\n"
          ]
        }
      ]
    },
    {
      "cell_type": "markdown",
      "source": [
        "# **05_random_numbers**."
      ],
      "metadata": {
        "id": "hnfaXFuennaK"
      }
    },
    {
      "cell_type": "code",
      "source": [
        "import random\n",
        "\n",
        "\n",
        "def main():\n",
        "  for i in range(10):\n",
        "    num:list= random.randint(1,100)\n",
        "    print(num)\n",
        "\n",
        "if __name__ == '__main__':\n",
        "  main()"
      ],
      "metadata": {
        "colab": {
          "base_uri": "https://localhost:8080/"
        },
        "id": "gs1Df9GqnsyI",
        "outputId": "35e51fc7-017d-410f-de24-21374c02dc3a"
      },
      "execution_count": 8,
      "outputs": [
        {
          "output_type": "stream",
          "name": "stdout",
          "text": [
            "29\n",
            "34\n",
            "82\n",
            "29\n",
            "73\n",
            "80\n",
            "86\n",
            "81\n",
            "29\n",
            "67\n"
          ]
        }
      ]
    }
  ]
}